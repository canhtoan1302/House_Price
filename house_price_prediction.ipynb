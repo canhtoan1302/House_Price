{
 "cells": [
  {
   "cell_type": "markdown",
   "metadata": {},
   "source": [
    "# House Price Prediction"
   ]
  },
  {
   "cell_type": "code",
   "execution_count": 74,
   "metadata": {},
   "outputs": [],
   "source": [
    "import pandas as pd\n",
    "import numpy as np\n",
    "import seaborn as sns"
   ]
  },
  {
   "cell_type": "code",
   "execution_count": 75,
   "metadata": {},
   "outputs": [],
   "source": [
    "# data = pd.read_csv(\"train.csv\")\n",
    "\n",
    "data = pd.read_csv(\"train.csv\",index_col=\"Id\")"
   ]
  },
  {
   "cell_type": "code",
   "execution_count": 76,
   "metadata": {},
   "outputs": [],
   "source": [
    "# Drop missing value\n",
    "data.fillna(value=-99999, inplace=True)"
   ]
  },
  {
   "cell_type": "code",
   "execution_count": 79,
   "metadata": {},
   "outputs": [
    {
     "data": {
      "image/png": "[encoded data removed]",
      "text/plain": [
       "<Figure size 432x288 with 1 Axes>"
      ]
     },
     "metadata": {
      "needs_background": "light"
     },
     "output_type": "display_data"
    }
   ],
   "source": [
    "sns.histplot(data=data[\"SalePrice\"]);"
   ]
  },
  {
   "cell_type": "code",
   "execution_count": null,
   "metadata": {},
   "outputs": [],
   "source": [
    "# data.columns"
   ]
  },
  {
   "cell_type": "markdown",
   "metadata": {},
   "source": [
    "## Choose features"
   ]
  },
  {
   "cell_type": "code",
   "execution_count": null,
   "metadata": {},
   "outputs": [],
   "source": [
    "features = [\"LotArea\",\"YearBuilt\",\"1stFlrSF\",\"2ndFlrSF\",\"FullBath\",\"BedroomAbvGr\",\"TotRmsAbvGrd\"]\n",
    "target = \"SalePrice\""
   ]
  },
  {
   "cell_type": "markdown",
   "metadata": {},
   "source": [
    "## Split dataset"
   ]
  },
  {
   "cell_type": "code",
   "execution_count": null,
   "metadata": {},
   "outputs": [],
   "source": [
    "X = data[features]\n",
    "y = data[target]"
   ]
  },
  {
   "cell_type": "code",
   "execution_count": null,
   "metadata": {},
   "outputs": [],
   "source": [
    "# Scale the X so that everyone can have the same distribution for linear regression\n",
    "# from sklearn import preprocessing\n",
    "# X = preprocessing.StandardScaler().fit_transform(X)\n",
    "# X = pd.DataFrame(X)"
   ]
  },
  {
   "cell_type": "code",
   "execution_count": null,
   "metadata": {},
   "outputs": [],
   "source": [
    "# X.head()"
   ]
  },
  {
   "cell_type": "code",
   "execution_count": null,
   "metadata": {},
   "outputs": [],
   "source": [
    "from sklearn.model_selection import train_test_split\n",
    "\n",
    "X_train, X_test, y_train, y_test = train_test_split(X,y,train_size=0.85,test_size=0.15,random_state=0)\n",
    "\n",
    "X_train, X_valid, y_train, y_valid = train_test_split(X_train,y_train,train_size=0.85,test_size=0.15,random_state=0)"
   ]
  },
  {
   "cell_type": "markdown",
   "metadata": {},
   "source": [
    "## Training with Linear Regression"
   ]
  },
  {
   "cell_type": "code",
   "execution_count": 81,
   "metadata": {},
   "outputs": [
    {
     "data": {
      "text/plain": [
       "PolynomialFeatures()"
      ]
     },
     "execution_count": 81,
     "metadata": {},
     "output_type": "execute_result"
    }
   ],
   "source": [
    "from sklearn.linear_model import LinearRegression\n",
    "from sklearn.preprocessing import PolynomialFeatures\n",
    "linear = LinearRegression()\n",
    "linear.fit(X_train,y_train)\n",
    "\n",
    "poly = PolynomialFeatures()\n",
    "poly.fit(X_train,y_train)"
   ]
  },
  {
   "cell_type": "code",
   "execution_count": null,
   "metadata": {},
   "outputs": [],
   "source": [
    "# y_pred = linear.predict(X_valid)\n",
    "# pd.DataFrame({'y': y_valid,'y_pred': y_pred})"
   ]
  },
  {
   "cell_type": "markdown",
   "metadata": {},
   "source": [
    "## Precision"
   ]
  },
  {
   "cell_type": "code",
   "execution_count": null,
   "metadata": {},
   "outputs": [],
   "source": [
    "# y_pred1 = linear.predict(X_test)\n",
    "# pd.DataFrame({'y': y_test,'y_pred1': y_pred1})"
   ]
  },
  {
   "cell_type": "code",
   "execution_count": null,
   "metadata": {},
   "outputs": [
    {
     "name": "stdout",
     "output_type": "stream",
     "text": [
      "0.6894380462383987\n",
      "0.7468114007293976\n",
      "0.7309556391681727\n"
     ]
    }
   ],
   "source": [
    "acc_linear_train = linear.score(X_train, y_train)\n",
    "acc_linear_val = linear.score(X_valid, y_valid)\n",
    "acc_linear_test = linear.score(X_test, y_test)\n",
    "\n",
    "print(acc_linear_train)\n",
    "print(acc_linear_val)\n",
    "print(acc_linear_test)"
   ]
  },
  {
   "cell_type": "markdown",
   "metadata": {},
   "source": [
    "## Training with Polynomial Regression"
   ]
  },
  {
   "cell_type": "code",
   "execution_count": 86,
   "metadata": {},
   "outputs": [
    {
     "data": {
      "text/plain": [
       "LinearRegression()"
      ]
     },
     "execution_count": 86,
     "metadata": {},
     "output_type": "execute_result"
    }
   ],
   "source": [
    "from sklearn.preprocessing import PolynomialFeatures\n",
    "\n",
    "poly = PolynomialFeatures(degree=2)\n",
    "poly.fit(X_train,y_train)\n",
    "x_poly = poly.fit_transform(X_train)\n",
    "\n",
    "# Fit the Polynomial Regression Model\n",
    "PolyReg = LinearRegression()\n",
    "PolyReg.fit(x_poly, y_train) "
   ]
  },
  {
   "cell_type": "code",
   "execution_count": 87,
   "metadata": {},
   "outputs": [
    {
     "name": "stdout",
     "output_type": "stream",
     "text": [
      "0.818148892537453\n",
      "0.7552766226861908\n",
      "0.8084820196148943\n"
     ]
    }
   ],
   "source": [
    "from sklearn.metrics import r2_score\n",
    "#Accurate on training set\n",
    "y_check_train = PolyReg.predict(poly.fit_transform(X_train))\n",
    "accu_train = r2_score(y_train, y_check_train)\n",
    "#Accurate on validation set\n",
    "y_check_val = PolyReg.predict(poly.fit_transform(X_valid))\n",
    "accu_val = r2_score(y_valid, y_check_val)\n",
    "#Accurate on test set\n",
    "y_check_test= PolyReg.predict(poly.fit_transform(X_test))\n",
    "accu_test = r2_score(y_test, y_check_test)\n",
    "\n",
    "print(accu_train)\n",
    "print(accu_val)\n",
    "print(accu_test)"
   ]
  },
  {
   "cell_type": "code",
   "execution_count": 89,
   "metadata": {},
   "outputs": [
    {
     "data": {
      "image/png": "[encoded data removed]",
      "text/plain": [
       "<Figure size 720x576 with 1 Axes>"
      ]
     },
     "metadata": {
      "needs_background": "light"
     },
     "output_type": "display_data"
    }
   ],
   "source": [
    "from sklearn.model_selection import learning_curve\n",
    "import matplotlib.pyplot as plt\n",
    "\n",
    "def plot_learning_curve(estimator, title, X, y, ylim=None, cv=None,\n",
    "                        n_jobs=1, train_sizes=np.linspace(.1, 1.0, 5)):\n",
    "    plt.figure(figsize = (10,8))\n",
    "    plt.title(title)\n",
    "    if ylim is not None:\n",
    "        plt.ylim(*ylim)\n",
    "    plt.xlabel(\"Training examples\")\n",
    "    plt.ylabel(\"Score\")\n",
    "    train_sizes, train_scores, test_scores = learning_curve(\n",
    "        estimator, X, y, cv=cv, n_jobs=n_jobs, train_sizes=train_sizes)\n",
    "    \n",
    "    train_scores_mean = np.mean(train_scores, axis=1)\n",
    "    train_scores_std = np.std(train_scores, axis=1)\n",
    "    test_scores_mean = np.mean(test_scores, axis=1)\n",
    "    test_scores_std = np.std(test_scores, axis=1)\n",
    "    \n",
    "    plt.grid()\n",
    "\n",
    "    # plt.fill_between(train_sizes, train_scores_mean - train_scores_std,\n",
    "    #                  train_scores_mean + train_scores_std, alpha=0.1,\n",
    "    #                  color=\"r\")\n",
    "    # plt.fill_between(train_sizes, test_scores_mean - test_scores_std,\n",
    "    #                  test_scores_mean + test_scores_std, alpha=0.1, color=\"g\")\n",
    "    plt.plot(train_sizes, train_scores_mean, color=\"r\",\n",
    "             label=\"Training score\")\n",
    "    plt.plot(train_sizes, test_scores_mean, color=\"g\",\n",
    "             label=\"Cross-validation score\")\n",
    "\n",
    "    plt.legend(loc=\"best\")\n",
    "\n",
    "    return plt\n",
    "\n",
    "plot_learning_curve(LinearRegression(), \"Learning curves for a linear regression model\", X_train, y_train, (0.2, 1.01), cv=5, n_jobs=4);"
   ]
  },
  {
   "cell_type": "code",
   "execution_count": null,
   "metadata": {},
   "outputs": [],
   "source": [
    "# from sklearn.model_selection import learning_curve\n",
    "# import matplotlib.pyplot as plt\n",
    "\n",
    "# train_sizes = [1, 100, 200, 300, 400, 500]\n",
    "# def learning_curves(estimator, data, features, target, train_sizes, cv):\n",
    "#     train_sizes, train_scores, validation_scores = learning_curve(\n",
    "#     estimator, data[features], data[target], train_sizes =\n",
    "#     train_sizes,\n",
    "#     cv = cv, scoring = 'neg_mean_squared_error')\n",
    "#     train_scores_mean = -train_scores.mean(axis = 1)\n",
    "#     validation_scores_mean = -validation_scores.mean(axis = 1)\n",
    "\n",
    "#     plt.plot(train_sizes, train_scores_mean, label = 'Training error')\n",
    "#     plt.plot(train_sizes, validation_scores_mean, label = 'Validation error')\n",
    "\n",
    "#     plt.ylabel('MSE', fontsize = 14)\n",
    "#     plt.xlabel('Training set size', fontsize = 14)\n",
    "#     title = 'Learning curves for a ' + str(estimator).split('(')[0] + ' model'\n",
    "#     plt.title(title, fontsize = 18, y = 1.03)\n",
    "#     plt.legend()\n",
    "#     plt.ylim(0,10)\n",
    "    \n",
    "# plt.figure(figsize = (16,10))\n",
    "\n",
    "\n",
    "\n",
    "# learning_curves(LinearRegression(), data, features, target, train_sizes, 5)"
   ]
  },
  {
   "cell_type": "code",
   "execution_count": null,
   "metadata": {},
   "outputs": [],
   "source": []
  }
 ],
 "metadata": {
  "interpreter": {
   "hash": "96a5b2c8615b6af4330dccc0a175f9e1be44a5aebebe076415aefa8805d772c0"
  },
  "kernelspec": {
   "display_name": "Python 3.8.8 64-bit ('base': conda)",
   "language": "python",
   "name": "python3"
  },
  "language_info": {
   "codemirror_mode": {
    "name": "ipython",
    "version": 3
   },
   "file_extension": ".py",
   "mimetype": "text/x-python",
   "name": "python",
   "nbconvert_exporter": "python",
   "pygments_lexer": "ipython3",
   "version": "3.8.8"
  },
  "orig_nbformat": 4
 },
 "nbformat": 4,
 "nbformat_minor": 2
}
